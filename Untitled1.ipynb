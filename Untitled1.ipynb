{
 "cells": [
  {
   "cell_type": "code",
   "execution_count": 4,
   "id": "c233d723-83f2-4afa-b3fd-d7cb0236fe74",
   "metadata": {},
   "outputs": [
    {
     "name": "stderr",
     "output_type": "stream",
     "text": [
      "/opt/anaconda3/lib/python3.12/site-packages/sklearn/base.py:380: InconsistentVersionWarning: Trying to unpickle estimator StandardScaler from version 1.7.1 when using version 1.6.1. This might lead to breaking code or invalid results. Use at your own risk. For more info please refer to:\n",
      "https://scikit-learn.org/stable/model_persistence.html#security-maintainability-limitations\n",
      "  warnings.warn(\n",
      "/opt/anaconda3/lib/python3.12/site-packages/sklearn/base.py:380: InconsistentVersionWarning: Trying to unpickle estimator KMeans from version 1.7.1 when using version 1.6.1. This might lead to breaking code or invalid results. Use at your own risk. For more info please refer to:\n",
      "https://scikit-learn.org/stable/model_persistence.html#security-maintainability-limitations\n",
      "  warnings.warn(\n"
     ]
    },
    {
     "name": "stdout",
     "output_type": "stream",
     "text": [
      "🎵 Hybrid Music Recommendation System (KMeans + KNN)\n",
      "Get similar Hindi & English songs using audio features and clustering.\n",
      "\n"
     ]
    },
    {
     "name": "stdin",
     "output_type": "stream",
     "text": [
      "Enter the exact name of the song:  tum hi ho\n"
     ]
    },
    {
     "name": "stdout",
     "output_type": "stream",
     "text": [
      "\n",
      "🔁 Similar Songs:\n",
      "🎧 Perfect by Ed Sheeran [English]\n",
      "🎧 See You Again by Wiz Khalifa [English]\n",
      "🎧 Bolna by Arijit Singh [Hindi]\n",
      "🎧 Sun Raha Hai by Ankit Tiwari [Hindi]\n",
      "🎧 Tera Ban Jaunga by Akhil Sachdeva [Hindi]\n"
     ]
    },
    {
     "name": "stderr",
     "output_type": "stream",
     "text": [
      "/opt/anaconda3/lib/python3.12/site-packages/sklearn/utils/validation.py:2739: UserWarning: X does not have valid feature names, but StandardScaler was fitted with feature names\n",
      "  warnings.warn(\n",
      "/opt/anaconda3/lib/python3.12/site-packages/sklearn/base.py:380: InconsistentVersionWarning: Trying to unpickle estimator NearestNeighbors from version 1.7.1 when using version 1.6.1. This might lead to breaking code or invalid results. Use at your own risk. For more info please refer to:\n",
      "https://scikit-learn.org/stable/model_persistence.html#security-maintainability-limitations\n",
      "  warnings.warn(\n"
     ]
    }
   ],
   "source": [
    "import pandas as pd\n",
    "import joblib\n",
    "from sklearn.preprocessing import StandardScaler\n",
    "\n",
    "# Load assets\n",
    "df = pd.read_csv(\"hybrid_knn_dataset.csv\")\n",
    "scaler = joblib.load(\"scaler.joblib\")\n",
    "kmeans = joblib.load(\"kmeans_model.joblib\")\n",
    "\n",
    "feature_cols = [\n",
    "    \"danceability\", \"energy\", \"valence\", \"tempo\",\n",
    "    \"acousticness\", \"instrumentalness\", \"speechiness\", \"liveness\"\n",
    "]\n",
    "\n",
    "print(\"🎵 Hybrid Music Recommendation System (KMeans + KNN)\")\n",
    "print(\"Get similar Hindi & English songs using audio features and clustering.\\n\")\n",
    "\n",
    "song_input = input(\"Enter the exact name of the song: \").strip()\n",
    "matching_songs = df[df['track'].str.lower() == song_input.lower()]\n",
    "\n",
    "if not matching_songs.empty:\n",
    "    song_row = matching_songs.iloc[0]\n",
    "    song_vector = scaler.transform([song_row[feature_cols]])\n",
    "    predicted_cluster = kmeans.predict(song_vector)[0]\n",
    "\n",
    "    try:\n",
    "        knn_model = joblib.load(f\"models/knn_cluster_{predicted_cluster}.joblib\")\n",
    "    except FileNotFoundError:\n",
    "        print(f\" KNN model for cluster {predicted_cluster} not found.\")\n",
    "        exit()\n",
    "\n",
    "    cluster_df = df[df['cluster'] == predicted_cluster].reset_index(drop=True)\n",
    "    cluster_scaled = scaler.transform(cluster_df[feature_cols])\n",
    "\n",
    "    distances, indices = knn_model.kneighbors([song_vector[0]])\n",
    "\n",
    "    print(\"\\n Similar Songs:\")\n",
    "    for idx in indices[0][1:]:\n",
    "        result = cluster_df.iloc[idx]\n",
    "        print(f\" {result['track']} by {result['artist']} [{result['language']}]\")\n",
    "\n",
    "else:\n",
    "    print(\"❌ Song not found. Please check the spelling and try again.\")\n"
   ]
  },
  {
   "cell_type": "code",
   "execution_count": null,
   "id": "f0164768-11d0-4adc-9e53-1498d750e304",
   "metadata": {},
   "outputs": [],
   "source": []
  }
 ],
 "metadata": {
  "kernelspec": {
   "display_name": "Python 3 (ipykernel)",
   "language": "python",
   "name": "python3"
  },
  "language_info": {
   "codemirror_mode": {
    "name": "ipython",
    "version": 3
   },
   "file_extension": ".py",
   "mimetype": "text/x-python",
   "name": "python",
   "nbconvert_exporter": "python",
   "pygments_lexer": "ipython3",
   "version": "3.12.2"
  }
 },
 "nbformat": 4,
 "nbformat_minor": 5
}
